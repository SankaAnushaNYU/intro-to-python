{
  "nbformat": 4,
  "nbformat_minor": 0,
  "metadata": {
    "colab": {
      "name": "Robo_Advisor_Prj.ipynb",
      "provenance": [],
      "toc_visible": true,
      "authorship_tag": "ABX9TyMT9gXFKXspjUerWbhpCNbS",
      "include_colab_link": true
    },
    "kernelspec": {
      "name": "python3",
      "display_name": "Python 3"
    },
    "language_info": {
      "name": "python"
    }
  },
  "cells": [
    {
      "cell_type": "markdown",
      "metadata": {
        "id": "view-in-github",
        "colab_type": "text"
      },
      "source": [
        "<a href=\"https://colab.research.google.com/github/SankaAnushaNYU/intro-to-python/blob/master/Robo_Advisor_Prj.ipynb\" target=\"_parent\"><img src=\"https://colab.research.google.com/assets/colab-badge.svg\" alt=\"Open In Colab\"/></a>"
      ]
    },
    {
      "cell_type": "code",
      "metadata": {
        "id": "xGnB-_lTMcfO"
      },
      "source": [
        "## imports\n",
        "import pandas as pd\n",
        "import numpy as np\n",
        "import matplotlib.pyplot as plt\n",
        "import seaborn as sns\n",
        "import datetime\n",
        "idx = pd.IndexSlice\n",
        "import statsmodels.api as sm\n",
        "from statsmodels.regression.linear_model import OLS\n",
        "from statsmodels.tsa.stattools import adfuller\n",
        "from statsmodels.tsa.stattools import coint\n",
        "from sklearn.model_selection import train_test_split\n",
        "from datetime import date\n",
        "\n"
      ],
      "execution_count": 2,
      "outputs": []
    },
    {
      "cell_type": "code",
      "metadata": {
        "id": "GadPmnSXLxqa",
        "colab": {
          "base_uri": "https://localhost:8080/",
          "height": 34
        },
        "outputId": "f1422590-a39f-4841-efe5-e49c76dba594"
      },
      "source": [
        "## Data collection\n",
        "\n",
        "\n",
        "fromdate = datetime.datetime(2013, 2, 8)\n",
        "todate = datetime.datetime(2018, 2, 7)\n",
        "prices_master = pd.read_csv('all_stocks_5yr.csv',  parse_dates=True)\n",
        "\n",
        "## Comapny and sector data\n",
        "from pandas import DataFrame\n",
        "companies = pd.read_html('https://en.wikipedia.org/wiki/List_of_S%26P_500_companies', flavor='bs4')\n",
        "companies_sec = companies[0][['Symbol','GICS Sector']]\n",
        "companies_sec_grp = companies_sec.groupby('GICS Sector')['Symbol']\n",
        "companies_sec = list(set(companies_sec['GICS Sector']))\n",
        "print(companies_sec)\n",
        "\n",
        "\n",
        "##  Stock data of each sector from 2013 - 2018\n",
        "sector_stock_data = {}\n",
        "for sector in companies_sec:\n",
        "  tickers = dict.fromkeys(companies_sec_grp.get_group(sector),[])\n",
        "  if sector not in sector_stock_data:\n",
        "    sector_stock_data[sector] = tickers\n",
        "  for ticker in tickers:\n",
        "    stock_data = prices_master[prices_master['Name'] == ticker][['date','open','high','low','close','volume']]\n",
        "    sector_stock_data[sector][ticker] = DataFrame(stock_data)\n",
        "    print(\"ticker_saved: \",ticker)\n",
        "\n",
        "##  Stock data of each sector from 2013 - 2018\n",
        "sector_wise_stockData = {}\n",
        "sector_ticker = {} \n",
        "for sector in companies_sec:\n",
        "  tickers = dict.fromkeys(companies_sec_grp.get_group(sector),[])\n",
        "  if sector not in sector_ticker:\n",
        "    sector_ticker[sector] = tickers\n",
        "  stock_data_sector = pd.DataFrame()\n",
        "  for ticker in tickers:\n",
        "    stock_data = prices_master[prices_master['Name'] == ticker][['Name','date','open','high','low','close','volume']]\n",
        "    data = [stock_data_sector, DataFrame(stock_data)]\n",
        "    stock_data_sector = pd.concat(data)\n",
        "  sector_wise_stockData[sector] = stock_data_sector\n",
        "\n",
        "from google.colab import files\n",
        "sector_stock_data = DataFrame(sector_stock_data).to_csv('sector_wise_stockData.csv')\n",
        "files.download('sector_wise_stockData.csv')\n"
      ],
      "execution_count": 3,
      "outputs": [
        {
          "output_type": "display_data",
          "data": {
            "application/javascript": [
              "\n",
              "    async function download(id, filename, size) {\n",
              "      if (!google.colab.kernel.accessAllowed) {\n",
              "        return;\n",
              "      }\n",
              "      const div = document.createElement('div');\n",
              "      const label = document.createElement('label');\n",
              "      label.textContent = `Downloading \"${filename}\": `;\n",
              "      div.appendChild(label);\n",
              "      const progress = document.createElement('progress');\n",
              "      progress.max = size;\n",
              "      div.appendChild(progress);\n",
              "      document.body.appendChild(div);\n",
              "\n",
              "      const buffers = [];\n",
              "      let downloaded = 0;\n",
              "\n",
              "      const channel = await google.colab.kernel.comms.open(id);\n",
              "      // Send a message to notify the kernel that we're ready.\n",
              "      channel.send({})\n",
              "\n",
              "      for await (const message of channel.messages) {\n",
              "        // Send a message to notify the kernel that we're ready.\n",
              "        channel.send({})\n",
              "        if (message.buffers) {\n",
              "          for (const buffer of message.buffers) {\n",
              "            buffers.push(buffer);\n",
              "            downloaded += buffer.byteLength;\n",
              "            progress.value = downloaded;\n",
              "          }\n",
              "        }\n",
              "      }\n",
              "      const blob = new Blob(buffers, {type: 'application/binary'});\n",
              "      const a = document.createElement('a');\n",
              "      a.href = window.URL.createObjectURL(blob);\n",
              "      a.download = filename;\n",
              "      div.appendChild(a);\n",
              "      a.click();\n",
              "      div.remove();\n",
              "    }\n",
              "  "
            ],
            "text/plain": [
              "<IPython.core.display.Javascript object>"
            ]
          },
          "metadata": {
            "tags": []
          }
        },
        {
          "output_type": "display_data",
          "data": {
            "application/javascript": [
              "download(\"download_6900e473-f8b0-4645-b7f9-fbb441ab2913\", \"sector_wise_stockData.csv\", 333012)"
            ],
            "text/plain": [
              "<IPython.core.display.Javascript object>"
            ]
          },
          "metadata": {
            "tags": []
          }
        }
      ]
    },
    {
      "cell_type": "code",
      "metadata": {
        "id": "2Y1npKaPc2NS"
      },
      "source": [
        "'''\n",
        "  Input : Cointegrated pairs and their p values\n",
        "  Ouptut : Heatmap for visualizing \n",
        "'''\n",
        "def heat_map(data):\n",
        "  fig, ax = plt.subplots(figsize=(20,10))\n",
        "  sns.heatmap(data, xticklabels = train_close.columns,yticklabels = train_close.columns, cmap = 'RdYlGn_r', annot = True, fmt=\".2f\",mask =  pvalues <= 0.90)\n",
        "  ax.set_title('Assets Cointregration Matrix p-values Between Pairs')\n",
        "  plt.tight_layout()\n",
        "  plt.show()\n"
      ],
      "execution_count": null,
      "outputs": []
    },
    {
      "cell_type": "code",
      "metadata": {
        "id": "0NSvRkY5icJF"
      },
      "source": [
        "'''\n",
        "  Input : Cointegrated pairs, trained model\n",
        "  Output : Spread and augmented Dickey-Fuller test results\n",
        "'''\n",
        "def pair_test(pair_ticker,train_close):\n",
        "  # final pair to test strategy\n",
        "  asset1 = pair_ticker[0]\n",
        "  asset2 = pair_ticker[1]\n",
        "\n",
        "  # create a train dataframe of 2 assets\n",
        "  train = pd.DataFrame()\n",
        "  train['asset1'] = train_close[asset1]\n",
        "  train['asset2'] = train_close[asset2]\n",
        "\n",
        "  # visualize closing prices\n",
        "  ax = train[['asset1','asset2']].plot(figsize=(12, 6), title = 'Daily Closing Prices for {} and {}'.format(asset1,asset2))\n",
        "  ax.set_ylabel(\"Closing Price\")\n",
        "  ax.grid(True);\n",
        "  plt.show()\n",
        "\n",
        "  # run OLS regression\n",
        "  model=sm.OLS(train.asset2, train.asset1).fit()\n",
        "\n",
        "  # print regression summary results\n",
        "  plt.rc('figure', figsize=(12, 7))\n",
        "  plt.text(0.01, 0.05, str(model.summary()), {'fontsize': 16}, fontproperties = 'monospace')\n",
        "  plt.axis('off')\n",
        "  plt.tight_layout()\n",
        "  plt.subplots_adjust(left=0.2, right=0.8, top=0.7, bottom=0.1)\n",
        "  plt.show()\n",
        "  print('Hedge Ratio = ', model.params[0])\n",
        "\n",
        "  # calculate spread\n",
        "  spread = train.asset2 - model.params[0] * train.asset1\n",
        "\n",
        "  # Plot the spread\n",
        "  ax = spread.plot(figsize=(12, 6), title = \"Pair's Spread\")\n",
        "  ax.set_ylabel(\"Spread\")\n",
        "  ax.grid(True);\n",
        "\n",
        "  # conduct Augmented Dickey-Fuller test\n",
        "  adf = adfuller(spread, maxlag = 1)\n",
        "  print('Critical Value = ', adf[0])\n",
        "\n",
        "  # probablity critical values\n",
        "  print(adf[4])\n",
        "\n"
      ],
      "execution_count": 7,
      "outputs": []
    },
    {
      "cell_type": "code",
      "metadata": {
        "id": "_2OuGyEwRLDa"
      },
      "source": [
        "# calculate z-score\n",
        "def zscore(series):\n",
        " return (series - series.mean()) / np.std(series)\n",
        "\n",
        "'''\n",
        "  Input : Cointegrated pairs, trained model\n",
        "  Output : Z-score, trading signals and calculatd portfolio\n",
        "'''\n",
        "def trading_signals(pair, model):\n",
        "  # create a dataframe for trading signals\n",
        "  signals = pd.DataFrame()\n",
        "  asset1, asset2 = pair[0], pair[1]\n",
        "  signals['asset1'] = test_close[asset1] \n",
        "  signals['asset2'] = test_close[asset2]\n",
        "  ratios = signals.asset1 / signals.asset2\n",
        "\n",
        "  # calculate z-score and define upper and lower thresholds\n",
        "  signals['z'] = zscore(ratios)\n",
        "  signals['z upper limit'] = np.mean(signals['z']) + np.std(signals['z'])\n",
        "  signals['z lower limit'] = np.mean(signals['z']) - np.std(signals['z'])\n",
        "\n",
        "  # create signal - short if z-score is greater than upper limit else long\n",
        "  signals['signals1'] = 0\n",
        "  signals['signals1'] = np.select([signals['z'] > \\\n",
        "                                  signals['z upper limit'], signals['z'] < signals['z lower limit']], [-1, 1], default=0)\n",
        "\n",
        "  # we take the first order difference to obtain portfolio position in that stock\n",
        "  signals['positions1'] = signals['signals1'].diff()\n",
        "  signals['signals2'] = -signals['signals1']\n",
        "  signals['positions2'] = signals['signals2'].diff()\n",
        "\n",
        "  # verify datafame head and tail\n",
        "  signals.head(3).append(signals.tail(3))\n",
        "\n",
        "  # visualize trading signals and position\n",
        "  fig=plt.figure(figsize=(14,6))\n",
        "  bx = fig.add_subplot(111)   \n",
        "  bx2 = bx.twinx()\n",
        "\n",
        "  #plot two different assets\n",
        "  l1, = bx.plot(signals['asset1'], c='#4abdac')\n",
        "  l2, = bx2.plot(signals['asset2'], c='#907163')\n",
        "  u1, = bx.plot(signals['asset1'][signals['positions1'] == 1], lw=0, marker='^', markersize=8, c='g',alpha=0.7)\n",
        "  d1, = bx.plot(signals['asset1'][signals['positions1'] == -1], lw=0,marker='v',markersize=8, c='r',alpha=0.7)\n",
        "  u2, = bx2.plot(signals['asset2'][signals['positions2'] == 1], lw=0,marker=2,markersize=9, c='g',alpha=0.9, markeredgewidth=3)\n",
        "  d2, = bx2.plot(signals['asset2'][signals['positions2'] == -1], lw=0,marker=3,markersize=9, c='r',alpha=0.9,markeredgewidth=3)\n",
        "  bx.set_ylabel(asset1,)\n",
        "  bx2.set_ylabel(asset2, rotation=270)\n",
        "  bx.yaxis.labelpad=15\n",
        "  bx2.yaxis.labelpad=15\n",
        "  bx.set_xlabel('Date')\n",
        "  bx.xaxis.labelpad=15\n",
        "  plt.legend([l1,l2,u1,d1,u2,d2], [asset1, asset1,'LONG {}'.format(asset1),\n",
        "            'SHORT {}'.format(asset1),\n",
        "            'LONG {}'.format(asset2),\n",
        "            'SHORT {}'.format(asset2)], loc ='best')\n",
        "  plt.title('Pair Trading')\n",
        "  plt.xlabel('Date')\n",
        "  plt.grid(True)\n",
        "  plt.show()\n",
        "\n",
        "\n",
        "  # initial capital to calculate the actual pnl\n",
        "  initial_capital = 100000\n",
        "\n",
        "  # shares to buy for each position\n",
        "  positions1 = initial_capital// max(signals['asset1'])\n",
        "  positions2 = initial_capital// max(signals['asset2'])\n",
        "\n",
        "  # since there are two assets, we calculate each asset Pnl \n",
        "  # separately and in the end we aggregate them into one portfolio\n",
        "  portfolio = pd.DataFrame()\n",
        "  portfolio['asset1'] = signals['asset1']\n",
        "  portfolio['holdings1'] = signals['positions1'].cumsum() * signals['asset1'] * positions1\n",
        "  portfolio['cash1'] = initial_capital - (signals['positions1'] * signals['asset1'] * positions1).cumsum()\n",
        "  portfolio['total asset1'] = portfolio['holdings1'] + portfolio['cash1']\n",
        "  portfolio['return1'] = portfolio['total asset1'].pct_change()\n",
        "  portfolio['positions1'] = signals['positions1']\n",
        "\n",
        "  # pnl for the 2nd asset\n",
        "  portfolio['asset2'] = signals['asset2']\n",
        "  portfolio['holdings2'] = signals['positions2'].cumsum() * signals['asset2'] * positions2\n",
        "  portfolio['cash2'] = initial_capital - (signals['positions2'] * signals['asset2'] * positions2).cumsum()\n",
        "  portfolio['total asset2'] = portfolio['holdings2'] + portfolio['cash2']\n",
        "  portfolio['return2'] = portfolio['total asset2'].pct_change()\n",
        "  portfolio['positions2'] = signals['positions2']\n",
        "\n",
        "  # total pnl and z-score\n",
        "  portfolio['z'] = signals['z']\n",
        "  portfolio['total asset'] = portfolio['total asset1'] + portfolio['total asset2']\n",
        "  portfolio['z upper limit'] = signals['z upper limit']\n",
        "  portfolio['z lower limit'] = signals['z lower limit']\n",
        "  portfolio = portfolio.dropna()\n",
        "\n",
        "  # plot the asset value change of the portfolio and pnl along with z-score\n",
        "  fig = plt.figure(figsize=(14,6),)\n",
        "  ax = fig.add_subplot(111)\n",
        "  ax2 = ax.twinx()\n",
        "  l1, = ax.plot(portfolio['total asset'], c='g')\n",
        "  l2, = ax2.plot(portfolio['z'], c='black', alpha=0.3)\n",
        "  b = ax2.fill_between(portfolio.index,portfolio['z upper limit'],\\\n",
        "                  portfolio['z lower limit'], \\\n",
        "                  alpha=0.2,color='#ffb48f')\n",
        "  ax.set_ylabel('Asset Value')\n",
        "  ax2.set_ylabel('Z Statistics',rotation=270)\n",
        "  ax.yaxis.labelpad=15\n",
        "  ax2.yaxis.labelpad=15\n",
        "  ax.set_xlabel('Date')\n",
        "  ax.xaxis.labelpad=15\n",
        "  plt.title('Portfolio Performance with Profit and Loss')\n",
        "  plt.legend([l2,b,l1],['Z Statistics',\n",
        "                        'Z Statistics +-1 Sigma',\n",
        "                        'Total Portfolio Value'],loc='upper left');\n",
        "  plt.show()\n",
        "\n",
        "  # calculate CAGR\n",
        "  final_portfolio = portfolio['total asset'].iloc[-1]\n",
        "  delta = (datetime.datetime.strptime(portfolio.index[-1], '%Y-%m-%d') - datetime.datetime.strptime(portfolio.index[0], '%Y-%m-%d')).days \n",
        "  # delta = (date(portfolio.index[-1]) - date(portfolio.index[0])).days\n",
        "  print('Number of days = ', delta)\n",
        "  YEAR_DAYS = 365\n",
        "  returns = (final_portfolio/initial_capital) ** (YEAR_DAYS/delta) - 1\n",
        "  print('CAGR = {:.3f}%' .format(returns * 100))\n",
        "\n",
        "\n"
      ],
      "execution_count": 6,
      "outputs": []
    },
    {
      "cell_type": "code",
      "metadata": {
        "id": "qK8rtv99MnEF"
      },
      "source": [
        "# make the necessary imports\n",
        "import pandas as pd\n",
        "import numpy as np\n",
        "import matplotlib.pyplot as plt\n",
        "import seaborn as sns\n",
        "import datetime\n",
        "idx = pd.IndexSlice\n",
        "import statsmodels.api as sm\n",
        "from statsmodels.regression.linear_model import OLS\n",
        "from statsmodels.tsa.stattools import adfuller\n",
        "from statsmodels.tsa.stattools import coint\n",
        "from sklearn.model_selection import train_test_split\n",
        "\n",
        "\n",
        "# #unstack and take close price\n",
        "# close = prices.unstack(['Name'])['close'].sort_index()\n",
        "\n",
        "def main(stocks):\n",
        "  close = stocks.unstack(['Name'])['close'].sort_index()\n",
        "  close = close.dropna()\n",
        "  close.head(2)\n",
        "\n",
        "  # train test split \n",
        "  train_close, test_close = train_test_split(close, test_size=0.5, shuffle=False)\n",
        "\n",
        "  # quick view of head and tail of train set\n",
        "  train_close.head(2).append(train_close.tail(2))\n",
        "\n",
        "  # Pearson correlation to get the basic idea about the relationship\n",
        "  # fig, ax = plt.subplots(figsize=(25,25))\n",
        "  # sns.heatmap(train_close.pct_change().corr(method ='pearson'), ax=ax, cmap='coolwarm', annot=True, fmt=\".2f\") #spearman\n",
        "  # ax.set_title('Assets Correlation Matrix')\n",
        "  # plt.show()\n",
        "\n",
        "  # function to find cointegrated pairs\n",
        "  # def find_cointegrated_pairs(data):\n",
        "  #     highly_correlated_pairs = []\n",
        "  #     highly_correlated_pairs_p_value = {}\n",
        "  #     n = data.shape[1]\n",
        "  #     pvalue_matrix = np.ones((n, n))\n",
        "  #     keys = data.keys()\n",
        "  #     pairs = []\n",
        "  #     for i in range(n):\n",
        "  #         for j in range(i+1, n):\n",
        "  #             result = coint(data[keys[i]], data[keys[j]])\n",
        "  #             pvalue_matrix[i, j] = result[1]\n",
        "  #             if result[1] < 0.05:\n",
        "  #                 pairs.append((keys[i], keys[j]))\n",
        "  #                 highly_correlated_pairs.append([keys[i], keys[j]])\n",
        "  #                 highly_correlated_pairs_p_value[(keys[i], keys[j])] = result[1]\n",
        "                  \n",
        "  #     return pvalue_matrix, pairs,highly_correlated_pairs,highly_correlated_pairs_p_value\n",
        "\n",
        "\n",
        "  # pvalues, pairs,highly_correlated_pairs,highly_correlated_pairs_p_value  = find_cointegrated_pairs(train_close)\n",
        "\n",
        "  # heat_map(pvalues)\n",
        "\n",
        "  # sorted_pairs = sorted(highly_correlated_pairs_p_value .items(), key=lambda kv: kv[1])\n",
        "  # top_pairs = sorted_pairs[:2]\n",
        "  # co_pairs = []\n",
        "  # for pair in top_pairs:\n",
        "  #   co_pairs.append(pair[0])\n",
        "\n",
        "  # for pair in co_pairs:\n",
        "  #   pair_test(pair,train_close)\n",
        "  #   trading_signals(pair,train_close)\n",
        "  return train_close\n",
        "\n",
        "\n",
        "\n",
        "# ind_sec = sector_wise_stockData['Industrials']\n",
        "# ind_sec = ind_sec.set_index(['Name','date'])\n"
      ],
      "execution_count": 14,
      "outputs": []
    },
    {
      "cell_type": "code",
      "metadata": {
        "id": "bIhff_5m8KEz"
      },
      "source": [
        "for sector in companies_sec :\n",
        "  stocks = sector_wise_stockData[sector].set_index(['Name','date'])\n",
        "  train_close = main(stocks)\n"
      ],
      "execution_count": 17,
      "outputs": []
    },
    {
      "cell_type": "code",
      "metadata": {
        "id": "n8Mzz6Pos_Kg"
      },
      "source": [
        "cobranding_pairs = [ ['NVDA','TSM'],\n",
        "['BMWYY','LVMUY'],\n",
        "['NKE','AAPL'],\n",
        "['NFLX','AMZN'],\n",
        "['MSFT','AMZN'],\n",
        "['FB','AMZN'],\n",
        "['MSFT','EBAY'],\n",
        "['FB','AMZN'],\n",
        "['FB','MSFT'],\n",
        "['QCOM','TSM'],\n",
        "['QCOM','AAPL'],\n",
        "['REI','SPLK'],\n",
        "['AMZN','CRM'] ]\n",
        "\n",
        "for pair in cobranding_pairs:\n",
        "  pair_test(pair,train_close)\n",
        "  trading_signals(pair,train_close)"
      ],
      "execution_count": null,
      "outputs": []
    },
    {
      "cell_type": "code",
      "metadata": {
        "colab": {
          "base_uri": "https://localhost:8080/"
        },
        "id": "LSIV-eaquVJl",
        "outputId": "b8e83524-13f7-40a1-9df6-b184e201b6d2"
      },
      "source": [
        "'REI' in prices_master['Name'] "
      ],
      "execution_count": 24,
      "outputs": [
        {
          "output_type": "execute_result",
          "data": {
            "text/plain": [
              "False"
            ]
          },
          "metadata": {
            "tags": []
          },
          "execution_count": 24
        }
      ]
    }
  ]
}